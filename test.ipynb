{
 "cells": [
  {
   "cell_type": "code",
   "execution_count": 45,
   "metadata": {},
   "outputs": [
    {
     "name": "stdout",
     "output_type": "stream",
     "text": [
      "<SoCo object at ip 192.168.2.12>\n"
     ]
    }
   ],
   "source": [
    "import soco\n",
    "import time\n",
    "# devices = {device.player_name: device for device in soco.discover()}\n",
    "device = soco.discovery.by_name(\"Penthouse\")\n",
    "doorbell = \"https://raw.githubusercontent.com/jfarcher/esp8266-mqtt-sonos-doorbell/master/doorbell-1.mp3\"\n",
    "print(device)"
   ]
  },
  {
   "cell_type": "code",
   "execution_count": 63,
   "metadata": {},
   "outputs": [],
   "source": [
    "track = device.get_current_track_info()\n",
    "initial_playlist_position = int(track[\"playlist_position\"]) - 1\n",
    "\n",
    "initial_track_position = (track[\"position\"])\n",
    "initial_state = device.get_current_transport_info().get(\"current_transport_state\")\n",
    "initial_volume = device.volume\n",
    "device.volume=15\n",
    "device.play_uri(uri=doorbell, meta='')\n",
    "time.sleep( 2 )\n",
    "device.volume=initial_volume  \n",
    "device.play_from_queue(initial_playlist_position)\n",
    "device.seek(initial_track_position)\n",
    "# doesnt seem to work if you stream from spotify yet.\n",
    "if initial_state != 'PLAYING':\n",
    "            device.pause()"
   ]
  },
  {
   "cell_type": "code",
   "execution_count": null,
   "metadata": {},
   "outputs": [],
   "source": [
    "if device.player_name.__contains__(\"Penthouse\"):\n",
    "    device.play_uri(\"https://raw.githubusercontent.com/jfarcher/esp8266-mqtt-sonos-doorbell/master/doorbell-1.mp3\")"
   ]
  },
  {
   "cell_type": "code",
   "execution_count": null,
   "metadata": {},
   "outputs": [],
   "source": [
    "device.play_uri(\"https://raw.githubusercontent.com/jfarcher/esp8266-mqtt-sonos-doorbell/master/doorbell-1.mp3\")"
   ]
  }
 ],
 "metadata": {
  "interpreter": {
   "hash": "662679eac2c64b57720a8a978905d66d903080cc288d50fe7cf63a47754ef606"
  },
  "kernelspec": {
   "display_name": "Python 3.9.2 64-bit",
   "language": "python",
   "name": "python3"
  },
  "language_info": {
   "codemirror_mode": {
    "name": "ipython",
    "version": 3
   },
   "file_extension": ".py",
   "mimetype": "text/x-python",
   "name": "python",
   "nbconvert_exporter": "python",
   "pygments_lexer": "ipython3",
   "version": "3.9.2"
  },
  "orig_nbformat": 4
 },
 "nbformat": 4,
 "nbformat_minor": 2
}
