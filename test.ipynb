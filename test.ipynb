{
 "cells": [
  {
   "cell_type": "code",
   "execution_count": 6,
   "metadata": {},
   "outputs": [
    {
     "name": "stdout",
     "output_type": "stream",
     "text": [
      "<SoCo object at ip 192.168.2.12> \n",
      "\n",
      "{'50+ kamer': SoCo(\"192.168.2.21\"), 'Move': SoCo(\"192.168.2.15\"), 'Keuken': SoCo(\"192.168.2.23\"), 'Tv Kamer': SoCo(\"192.168.2.1\"), 'Eetkamer': SoCo(\"192.168.2.25\"), 'Penthouse': SoCo(\"192.168.2.3\"), 'Study': SoCo(\"192.168.2.4\")}\n"
     ]
    }
   ],
   "source": [
    "import soco\n",
    "anyDevices = soco.discovery.scan_network_get_by_name(\"Penthouse\")\n",
    "devices = {device.player_name: device for device in soco.discover()}\n",
    "print(anyDevices, \"\\n\")\n",
    "print(devices)"
   ]
  },
  {
   "cell_type": "code",
   "execution_count": null,
   "metadata": {},
   "outputs": [],
   "source": [
    "anyDevices.audioIn(\"Doorbell.mp3\")"
   ]
  }
 ],
 "metadata": {
  "interpreter": {
   "hash": "662679eac2c64b57720a8a978905d66d903080cc288d50fe7cf63a47754ef606"
  },
  "kernelspec": {
   "display_name": "Python 3.9.2 64-bit",
   "language": "python",
   "name": "python3"
  },
  "language_info": {
   "codemirror_mode": {
    "name": "ipython",
    "version": 3
   },
   "file_extension": ".py",
   "mimetype": "text/x-python",
   "name": "python",
   "nbconvert_exporter": "python",
   "pygments_lexer": "ipython3",
   "version": "3.9.2"
  },
  "orig_nbformat": 4
 },
 "nbformat": 4,
 "nbformat_minor": 2
}
