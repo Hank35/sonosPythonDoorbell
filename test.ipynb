{
 "cells": [
  {
   "cell_type": "code",
   "execution_count": 45,
   "metadata": {},
   "outputs": [
    {
     "name": "stdout",
     "output_type": "stream",
     "text": [
      "<SoCo object at ip 192.168.2.12>\n"
     ]
    }
   ],
   "source": [
    "import soco\n",
    "import time\n",
    "# devices = {device.player_name: device for device in soco.discover()}\n",
    "device = soco.discovery.by_name(\"Penthouse\")\n",
    "doorbell = \"https://raw.githubusercontent.com/jfarcher/esp8266-mqtt-sonos-doorbell/master/doorbell-1.mp3\"\n",
    "print(device)"
   ]
  },
  {
   "cell_type": "code",
   "execution_count": 61,
   "metadata": {},
   "outputs": [
    {
     "ename": "AttributeError",
     "evalue": "module 'soco' has no attribute 'MusicService'",
     "output_type": "error",
     "traceback": [
      "\u001b[1;31m---------------------------------------------------------------------------\u001b[0m",
      "\u001b[1;31mAttributeError\u001b[0m                            Traceback (most recent call last)",
      "\u001b[1;32mC:\\Users\\HEINEM~1\\AppData\\Local\\Temp/ipykernel_24508/1040580917.py\u001b[0m in \u001b[0;36m<module>\u001b[1;34m\u001b[0m\n\u001b[1;32m----> 1\u001b[1;33m \u001b[0mspotify\u001b[0m \u001b[1;33m=\u001b[0m \u001b[0msoco\u001b[0m\u001b[1;33m.\u001b[0m\u001b[0mMusicService\u001b[0m\u001b[1;33m(\u001b[0m\u001b[1;34m'Spotify'\u001b[0m\u001b[1;33m)\u001b[0m\u001b[1;33m\u001b[0m\u001b[1;33m\u001b[0m\u001b[0m\n\u001b[0m",
      "\u001b[1;31mAttributeError\u001b[0m: module 'soco' has no attribute 'MusicService'"
     ]
    }
   ],
   "source": [
    "spotify = soco.music_services.MusicService('Spotify')"
   ]
  },
  {
   "cell_type": "code",
   "execution_count": 58,
   "metadata": {},
   "outputs": [],
   "source": [
    "track = device.get_current_track_info()\n",
    "initial_playlist_position = int(track[\"playlist_position\"]) - 1\n",
    "\n",
    "initial_track_position = (track[\"position\"])\n",
    "initial_state = device.get_current_transport_info().get(\"current_transport_state\")\n",
    "initial_volume = device.volume\n",
    "device.volume=15\n",
    "device.play_uri(uri=doorbell, meta='')\n",
    "time.sleep( 2 )\n",
    "device.volume=initial_volume  \n",
    "if not initial_playlist_position == -1:\n",
    "    device.play()\n",
    "else:  \n",
    "    device.play_from_queue(initial_playlist_position)\n",
    "device.seek(initial_track_position)\n",
    "if initial_state != 'PLAYING':\n",
    "            device.pause()"
   ]
  },
  {
   "cell_type": "code",
   "execution_count": null,
   "metadata": {},
   "outputs": [],
   "source": [
    "if device.player_name.__contains__(\"Penthouse\"):\n",
    "    device.play_uri(\"https://raw.githubusercontent.com/jfarcher/esp8266-mqtt-sonos-doorbell/master/doorbell-1.mp3\")"
   ]
  },
  {
   "cell_type": "code",
   "execution_count": null,
   "metadata": {},
   "outputs": [],
   "source": [
    "device.play_uri(\"https://raw.githubusercontent.com/jfarcher/esp8266-mqtt-sonos-doorbell/master/doorbell-1.mp3\")"
   ]
  }
 ],
 "metadata": {
  "interpreter": {
   "hash": "662679eac2c64b57720a8a978905d66d903080cc288d50fe7cf63a47754ef606"
  },
  "kernelspec": {
   "display_name": "Python 3.9.2 64-bit",
   "language": "python",
   "name": "python3"
  },
  "language_info": {
   "codemirror_mode": {
    "name": "ipython",
    "version": 3
   },
   "file_extension": ".py",
   "mimetype": "text/x-python",
   "name": "python",
   "nbconvert_exporter": "python",
   "pygments_lexer": "ipython3",
   "version": "3.9.2"
  },
  "orig_nbformat": 4
 },
 "nbformat": 4,
 "nbformat_minor": 2
}
